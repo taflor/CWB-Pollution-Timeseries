{
 "cells": [
  {
   "cell_type": "markdown",
   "metadata": {},
   "source": [
    "# CWB Pollution: Pre-Processing\n",
    "  \n",
    "**The Data Science Method**  \n",
    "\n",
    "\n",
    "0.   Problem Identification \n",
    "\n",
    "1.   Data Wrangling \n",
    " \n",
    "2.   Exploratory Data Analysis\n",
    "<br>\n",
    "\n",
    "3.   **Pre-processing and Training Data Development**\n",
    "  * Split into testing and training datasets\n",
    "  * Create dummy or indicator features for categorical variables (Not needed)\n",
    "  * Standardize the magnitude of numeric features (Not needed, pm2.5 and pm10 are measured in the same units)\n",
    " \n",
    "\n",
    "4.   Modeling \n",
    "\n",
    "5.   Documentation"
   ]
  },
  {
   "cell_type": "markdown",
   "metadata": {},
   "source": [
    "## Load Required Packages & Data"
   ]
  },
  {
   "cell_type": "code",
   "execution_count": 1,
   "metadata": {},
   "outputs": [],
   "source": [
    "# load python packages from environment\n",
    "import os\n",
    "import numpy as np\n",
    "import pandas as pd"
   ]
  },
  {
   "cell_type": "code",
   "execution_count": 2,
   "metadata": {},
   "outputs": [
    {
     "name": "stdout",
     "output_type": "stream",
     "text": [
      "/Users/tiffanyflor/Dropbox/MyProjects/Causeway Bay Pollution\n",
      "/Users/tiffanyflor/Dropbox/MyProjects/Causeway Bay Pollution/data/interim\n"
     ]
    }
   ],
   "source": [
    "# Get current working directory\n",
    "path = os.getcwd()\n",
    "\n",
    "# Get parent directory\n",
    "parent_path = os.path.dirname(path)\n",
    "print(parent_path)\n",
    "\n",
    "# Create data/raw path\n",
    "interimdata_path = os.path.join(parent_path, 'data', 'interim')\n",
    "print(interimdata_path)"
   ]
  },
  {
   "cell_type": "code",
   "execution_count": 3,
   "metadata": {},
   "outputs": [
    {
     "data": {
      "text/html": [
       "<div>\n",
       "<style scoped>\n",
       "    .dataframe tbody tr th:only-of-type {\n",
       "        vertical-align: middle;\n",
       "    }\n",
       "\n",
       "    .dataframe tbody tr th {\n",
       "        vertical-align: top;\n",
       "    }\n",
       "\n",
       "    .dataframe thead th {\n",
       "        text-align: right;\n",
       "    }\n",
       "</style>\n",
       "<table border=\"1\" class=\"dataframe\">\n",
       "  <thead>\n",
       "    <tr style=\"text-align: right;\">\n",
       "      <th></th>\n",
       "      <th>date</th>\n",
       "      <th>pm25</th>\n",
       "      <th>pm10</th>\n",
       "    </tr>\n",
       "  </thead>\n",
       "  <tbody>\n",
       "    <tr>\n",
       "      <th>0</th>\n",
       "      <td>2014-01-01</td>\n",
       "      <td>166.0</td>\n",
       "      <td>79.0</td>\n",
       "    </tr>\n",
       "    <tr>\n",
       "      <th>1</th>\n",
       "      <td>2014-01-02</td>\n",
       "      <td>166.0</td>\n",
       "      <td>66.0</td>\n",
       "    </tr>\n",
       "    <tr>\n",
       "      <th>2</th>\n",
       "      <td>2014-01-03</td>\n",
       "      <td>153.0</td>\n",
       "      <td>82.0</td>\n",
       "    </tr>\n",
       "    <tr>\n",
       "      <th>3</th>\n",
       "      <td>2014-01-04</td>\n",
       "      <td>158.0</td>\n",
       "      <td>92.0</td>\n",
       "    </tr>\n",
       "    <tr>\n",
       "      <th>4</th>\n",
       "      <td>2014-01-05</td>\n",
       "      <td>179.0</td>\n",
       "      <td>90.0</td>\n",
       "    </tr>\n",
       "  </tbody>\n",
       "</table>\n",
       "</div>"
      ],
      "text/plain": [
       "         date   pm25  pm10\n",
       "0  2014-01-01  166.0  79.0\n",
       "1  2014-01-02  166.0  66.0\n",
       "2  2014-01-03  153.0  82.0\n",
       "3  2014-01-04  158.0  92.0\n",
       "4  2014-01-05  179.0  90.0"
      ]
     },
     "execution_count": 3,
     "metadata": {},
     "output_type": "execute_result"
    }
   ],
   "source": [
    "df = pd.read_csv(interimdata_path + '/1.0_cwb_pm25_pm10_clean1.csv')\n",
    "df.head()"
   ]
  },
  {
   "cell_type": "code",
   "execution_count": 4,
   "metadata": {},
   "outputs": [
    {
     "data": {
      "text/plain": [
       "date    datetime64[ns]\n",
       "pm25           float64\n",
       "pm10           float64\n",
       "dtype: object"
      ]
     },
     "execution_count": 4,
     "metadata": {},
     "output_type": "execute_result"
    }
   ],
   "source": [
    "# Fix dtypes\n",
    "df['date'] = pd.to_datetime(df['date'])\n",
    "df.dtypes"
   ]
  },
  {
   "cell_type": "code",
   "execution_count": 5,
   "metadata": {},
   "outputs": [],
   "source": [
    "df['pm25'] = round(df['pm25'],1)\n",
    "df['pm10'] = round(df['pm10'],1)"
   ]
  },
  {
   "cell_type": "markdown",
   "metadata": {},
   "source": [
    "## Train Test Split"
   ]
  },
  {
   "cell_type": "code",
   "execution_count": 6,
   "metadata": {},
   "outputs": [],
   "source": [
    "# Set index to date to allow for easy splitting\n",
    "df = df.set_index('date')"
   ]
  },
  {
   "cell_type": "code",
   "execution_count": 7,
   "metadata": {},
   "outputs": [],
   "source": [
    "train = df[df.index.year < 2019]\n",
    "test = df[df.index.year == 2019]\n",
    "year_2020 = df[df.index.year == 2020]"
   ]
  },
  {
   "cell_type": "code",
   "execution_count": 8,
   "metadata": {},
   "outputs": [
    {
     "name": "stdout",
     "output_type": "stream",
     "text": [
      "             pm25  pm10\n",
      "date                   \n",
      "2014-01-01  166.0  79.0\n",
      "             pm25  pm10\n",
      "date                   \n",
      "2018-12-31  107.0  46.0\n"
     ]
    }
   ],
   "source": [
    "print(train.head(1))\n",
    "print(train.tail(1))"
   ]
  },
  {
   "cell_type": "code",
   "execution_count": 9,
   "metadata": {},
   "outputs": [
    {
     "name": "stdout",
     "output_type": "stream",
     "text": [
      "             pm25  pm10\n",
      "date                   \n",
      "2019-01-01  103.5  43.0\n",
      "             pm25  pm10\n",
      "date                   \n",
      "2019-12-31  102.7  47.3\n"
     ]
    }
   ],
   "source": [
    "print(test.head(1))\n",
    "print(test.tail(1))"
   ]
  },
  {
   "cell_type": "code",
   "execution_count": 11,
   "metadata": {},
   "outputs": [
    {
     "name": "stdout",
     "output_type": "stream",
     "text": [
      "            pm25  pm10\n",
      "date                  \n",
      "2020-01-01  96.3  47.0\n",
      "            pm25  pm10\n",
      "date                  \n",
      "2020-12-31  79.0  40.0\n"
     ]
    }
   ],
   "source": [
    "print(year_2020.head(1))\n",
    "print(year_2020.tail(1))"
   ]
  },
  {
   "cell_type": "markdown",
   "metadata": {},
   "source": [
    "## Save dataframes"
   ]
  },
  {
   "cell_type": "code",
   "execution_count": 12,
   "metadata": {},
   "outputs": [],
   "source": [
    "train.to_csv(interimdata_path + '/3.0_train_data.csv')\n",
    "test.to_csv(interimdata_path + '/3.0_test_data.csv')\n",
    "year_2020.to_csv(interimdata_path + '/3.0_year_2020_data.csv')"
   ]
  },
  {
   "cell_type": "code",
   "execution_count": null,
   "metadata": {},
   "outputs": [],
   "source": []
  }
 ],
 "metadata": {
  "kernelspec": {
   "display_name": "hkpollution3",
   "language": "python",
   "name": "hkpollution3"
  },
  "language_info": {
   "codemirror_mode": {
    "name": "ipython",
    "version": 3
   },
   "file_extension": ".py",
   "mimetype": "text/x-python",
   "name": "python",
   "nbconvert_exporter": "python",
   "pygments_lexer": "ipython3",
   "version": "3.8.5"
  }
 },
 "nbformat": 4,
 "nbformat_minor": 4
}
